{
 "cells": [
  {
   "cell_type": "markdown",
   "id": "12fba672",
   "metadata": {},
   "source": [
    "# 🌲 Decision Trees & Random Forest - Titanic Survival Prediction"
   ]
  },
  {
   "cell_type": "markdown",
   "id": "4a405683",
   "metadata": {},
   "source": [
    "## 🌳 What is a Decision Tree?\n",
    "- A decision tree splits the data into branches based on feature conditions.\n",
    "- Each node asks a question, and leaves hold predictions.\n",
    "- **Gini Impurity** or **Entropy** is used to decide the best splits.\n",
    "\n",
    "### Advantages:\n",
    "- Easy to interpret\n",
    "- Handles both numerical and categorical data\n",
    "\n",
    "### Disadvantages:\n",
    "- **Overfitting** is common on noisy data\n",
    "- Not stable (small changes in data = big changes in tree)"
   ]
  },
  {
   "cell_type": "markdown",
   "id": "0b021c38",
   "metadata": {},
   "source": [
    "## 🌲 What is a Random Forest?\n",
    "- A Random Forest is an **ensemble** of Decision Trees.\n",
    "- Trains many trees on different data samples (bagging) and features.\n",
    "- Final prediction is made by **majority voting** (classification).\n",
    "\n",
    "### Benefits:\n",
    "- Reduces overfitting\n",
    "- Improves accuracy\n",
    "- More robust than a single decision tree"
   ]
  },
  {
   "cell_type": "markdown",
   "id": "fb28aab9",
   "metadata": {},
   "source": [
    "## 📥 Step 1: Load and Preprocess Titanic Data"
   ]
  },
  {
   "cell_type": "code",
   "execution_count": 1,
   "id": "b651919a",
   "metadata": {},
   "outputs": [
    {
     "name": "stderr",
     "output_type": "stream",
     "text": [
      "/var/folders/19/8bk5lhzj2b7crktgv8zcc9b00000gn/T/ipykernel_36415/2545587579.py:6: FutureWarning: A value is trying to be set on a copy of a DataFrame or Series through chained assignment using an inplace method.\n",
      "The behavior will change in pandas 3.0. This inplace method will never work because the intermediate object on which we are setting values always behaves as a copy.\n",
      "\n",
      "For example, when doing 'df[col].method(value, inplace=True)', try using 'df.method({col: value}, inplace=True)' or df[col] = df[col].method(value) instead, to perform the operation inplace on the original object.\n",
      "\n",
      "\n",
      "  df['Age'].fillna(df['Age'].median(), inplace=True)\n"
     ]
    }
   ],
   "source": [
    "\n",
    "import pandas as pd\n",
    "df = pd.read_csv('https://raw.githubusercontent.com/datasciencedojo/datasets/master/titanic.csv')\n",
    "\n",
    "# Feature selection and preprocessing\n",
    "df = df[['Pclass', 'Sex', 'Age', 'Fare', 'SibSp', 'Parch', 'Survived']]\n",
    "df['Age'].fillna(df['Age'].median(), inplace=True)\n",
    "df['Sex'] = df['Sex'].map({'male': 0, 'female': 1})\n",
    "X = df.drop('Survived', axis=1)\n",
    "y = df['Survived']\n"
   ]
  },
  {
   "cell_type": "markdown",
   "id": "736ffe90",
   "metadata": {},
   "source": [
    "## ✂️ Step 2: Train-Test Split"
   ]
  },
  {
   "cell_type": "code",
   "execution_count": 2,
   "id": "d93e350b",
   "metadata": {},
   "outputs": [],
   "source": [
    "\n",
    "from sklearn.model_selection import train_test_split\n",
    "\n",
    "X_train, X_test, y_train, y_test = train_test_split(X, y, test_size=0.2, random_state=42)\n"
   ]
  },
  {
   "cell_type": "markdown",
   "id": "748a7e85",
   "metadata": {},
   "source": [
    "## 🌳 Step 3: Decision Tree Classifier"
   ]
  },
  {
   "cell_type": "code",
   "execution_count": 3,
   "id": "59324e94",
   "metadata": {},
   "outputs": [
    {
     "name": "stdout",
     "output_type": "stream",
     "text": [
      "Decision Tree Accuracy: 0.7988826815642458\n",
      "[[92 13]\n",
      " [23 51]]\n",
      "              precision    recall  f1-score   support\n",
      "\n",
      "           0       0.80      0.88      0.84       105\n",
      "           1       0.80      0.69      0.74        74\n",
      "\n",
      "    accuracy                           0.80       179\n",
      "   macro avg       0.80      0.78      0.79       179\n",
      "weighted avg       0.80      0.80      0.80       179\n",
      "\n"
     ]
    }
   ],
   "source": [
    "\n",
    "from sklearn.tree import DecisionTreeClassifier\n",
    "from sklearn.metrics import accuracy_score, classification_report, confusion_matrix\n",
    "\n",
    "tree = DecisionTreeClassifier(max_depth=3, random_state=42)\n",
    "tree.fit(X_train, y_train)\n",
    "y_pred_tree = tree.predict(X_test)\n",
    "\n",
    "print(\"Decision Tree Accuracy:\", accuracy_score(y_test, y_pred_tree))\n",
    "print(confusion_matrix(y_test, y_pred_tree))\n",
    "print(classification_report(y_test, y_pred_tree))\n"
   ]
  },
  {
   "cell_type": "markdown",
   "id": "c86c56b6",
   "metadata": {},
   "source": [
    "## 🌲 Step 4: Random Forest Classifier"
   ]
  },
  {
   "cell_type": "code",
   "execution_count": 4,
   "id": "605a9886",
   "metadata": {},
   "outputs": [
    {
     "name": "stdout",
     "output_type": "stream",
     "text": [
      "Random Forest Accuracy: 0.8044692737430168\n",
      "[[95 10]\n",
      " [25 49]]\n",
      "              precision    recall  f1-score   support\n",
      "\n",
      "           0       0.79      0.90      0.84       105\n",
      "           1       0.83      0.66      0.74        74\n",
      "\n",
      "    accuracy                           0.80       179\n",
      "   macro avg       0.81      0.78      0.79       179\n",
      "weighted avg       0.81      0.80      0.80       179\n",
      "\n"
     ]
    }
   ],
   "source": [
    "\n",
    "from sklearn.ensemble import RandomForestClassifier\n",
    "\n",
    "forest = RandomForestClassifier(n_estimators=100, max_depth=5, random_state=42)\n",
    "forest.fit(X_train, y_train)\n",
    "y_pred_forest = forest.predict(X_test)\n",
    "\n",
    "print(\"Random Forest Accuracy:\", accuracy_score(y_test, y_pred_forest))\n",
    "print(confusion_matrix(y_test, y_pred_forest))\n",
    "print(classification_report(y_test, y_pred_forest))\n"
   ]
  },
  {
   "cell_type": "markdown",
   "id": "d3384ce7",
   "metadata": {},
   "source": [
    "## 📊 Step 5: Feature Importance (Random Forest)"
   ]
  },
  {
   "cell_type": "code",
   "execution_count": 5,
   "id": "6c5f2e34",
   "metadata": {},
   "outputs": [
    {
     "data": {
      "image/png": "[encoded data removed]",
      "text/plain": [
       "<Figure size 640x480 with 1 Axes>"
      ]
     },
     "metadata": {},
     "output_type": "display_data"
    }
   ],
   "source": [
    "\n",
    "import matplotlib.pyplot as plt\n",
    "\n",
    "feature_importances = pd.Series(forest.feature_importances_, index=X.columns)\n",
    "feature_importances.sort_values().plot(kind='barh', title='Feature Importance')\n",
    "plt.show()\n"
   ]
  },
  {
   "cell_type": "markdown",
   "id": "38214f79",
   "metadata": {},
   "source": [
    "## ✅ Summary\n",
    "- Decision Trees split data based on questions to make predictions.\n",
    "- Random Forest uses many trees to improve robustness.\n",
    "- Applied both models to Titanic dataset.\n",
    "- Random Forest generally performs better and reduces overfitting."
   ]
  },
  {
   "cell_type": "markdown",
   "id": "3681f901",
   "metadata": {},
   "source": [
    "## 📘 Use Cases of Logistic Regression, Decision Trees & Random Forests\n",
    "\n",
    "---\n",
    "\n",
    "### 1. 🔍 Logistic Regression\n",
    "\n",
    "**Best For**:\n",
    "- Binary classification problems\n",
    "- Interpretability and quick predictions\n",
    "- When the relationship is linear in log-odds\n",
    "\n",
    "**Common Applications**:\n",
    "| Industry      | Use Case                       |\n",
    "|---------------|--------------------------------|\n",
    "| Healthcare    | Predicting disease (Yes/No)    |\n",
    "| Finance       | Credit risk or loan approval   |\n",
    "| Marketing     | Customer churn prediction      |\n",
    "| HR            | Employee attrition             |\n",
    "| Insurance     | Fraud detection (basic models) |\n",
    "\n",
    "**Why Use It?**\n",
    "- Fast and simple\n",
    "- Coefficients show feature importance\n",
    "- Works well with linearly separable data\n",
    "\n",
    "---\n",
    "\n",
    "### 2. 🌳 Decision Tree\n",
    "\n",
    "**Best For**:\n",
    "- Interpretable rules and decisions\n",
    "- Handling both categorical and numeric data\n",
    "- Non-linear patterns in data\n",
    "\n",
    "**Common Applications**:\n",
    "| Industry      | Use Case                          |\n",
    "|---------------|-----------------------------------|\n",
    "| Healthcare    | Treatment recommendation          |\n",
    "| Retail        | Customer segmentation             |\n",
    "| Education     | Admission decision-making         |\n",
    "| HR            | Promotion / eligibility modeling  |\n",
    "\n",
    "**Why Use It?**\n",
    "- Visual and explainable logic (if-else structure)\n",
    "- Handles missing values\n",
    "- May overfit if not pruned\n",
    "\n",
    "---\n",
    "\n",
    "### 3. 🌲 Random Forest\n",
    "\n",
    "**Best For**:\n",
    "- High accuracy on structured data\n",
    "- Reducing overfitting (ensemble of trees)\n",
    "- Feature importance analysis\n",
    "\n",
    "**Common Applications**:\n",
    "| Industry      | Use Case                              |\n",
    "|---------------|----------------------------------------|\n",
    "| Banking       | Credit scoring                         |\n",
    "| Agriculture   | Predicting crop diseases               |\n",
    "| Cybersecurity | Malware detection                      |\n",
    "| E-commerce    | Product recommendation                 |\n",
    "| Government    | Income/poverty level prediction        |\n",
    "\n",
    "**Why Use It?**\n",
    "- Combines many trees for better generalization\n",
    "- Works well with imbalanced and noisy data\n",
    "- Handles non-linearity and feature interactions\n",
    "\n",
    "---\n",
    "\n",
    "### ⚖️ Comparison Table\n",
    "\n",
    "| Feature           | Logistic Regression | Decision Tree      | Random Forest       |\n",
    "|-------------------|---------------------|---------------------|----------------------|\n",
    "| Model Type        | Linear              | Non-linear          | Ensemble (non-linear)|\n",
    "| Interpretability  | High                | Very High           | Medium               |\n",
    "| Risk of Overfitting | Low              | High                | Low                  |\n",
    "| Training Speed    | Very Fast           | Fast                | Moderate             |\n",
    "| Accuracy          | Moderate            | Varies              | High                 |\n",
    "| Feature Insight   | Coefficients        | Rule paths          | Feature importance   |\n"
   ]
  },
  {
   "cell_type": "markdown",
   "id": "51ee18ba",
   "metadata": {},
   "source": [
    "## 🎯 Bias vs Variance Trade-Off\n",
    "\n",
    "In supervised machine learning, prediction error can be broken down as:\n",
    "\n",
    "\\[\n",
    "\\text{Total Error} = \\text{Bias}^2 + \\text{Variance} + \\text{Irreducible Error}\n",
    "\\]\n",
    "\n",
    "---\n",
    "\n",
    "### 🧠 What is Bias?\n",
    "\n",
    "- Error due to **overly simplistic assumptions** in the model.\n",
    "- Leads to **underfitting** — the model cannot capture underlying patterns.\n",
    "\n",
    "**High Bias Characteristics:**\n",
    "- Low model complexity (e.g., linear model for curved data)\n",
    "- Poor performance on training and test data\n",
    "\n",
    "---\n",
    "\n",
    "### 🔁 What is Variance?\n",
    "\n",
    "- Error due to **model sensitivity to small changes** in training data.\n",
    "- Leads to **overfitting** — the model memorizes noise as if it were signal.\n",
    "\n",
    "**High Variance Characteristics:**\n",
    "- High model complexity (e.g., deep decision tree)\n",
    "- Excellent performance on training data but poor generalization to test data\n",
    "\n",
    "---\n",
    "\n",
    "### ⚖️ Bias vs Variance Comparison\n",
    "\n",
    "|                | High Bias                      | High Variance                  |\n",
    "|----------------|-------------------------------|-------------------------------|\n",
    "| Error Source   | Strong assumptions             | High sensitivity to training data |\n",
    "| Model Type     | Too simple                     | Too complex                   |\n",
    "| Train Accuracy | Low                            | High                          |\n",
    "| Test Accuracy  | Low                            | Low (due to overfitting)      |\n",
    "| Fix by         | Increase complexity            | Reduce complexity, regularize |\n",
    "\n",
    "---\n",
    "\n",
    "### 🎯 Goal:\n",
    "Achieve a **balance**:\n",
    "- Low enough bias to learn meaningful patterns\n",
    "- Low enough variance to generalize well\n",
    "\n",
    "---\n",
    "\n",
    "### 🎯 Visual Analogy: Hitting a Target 🎯\n",
    "\n",
    "| Model Behavior       | Pattern                             | Interpretation             |\n",
    "|----------------------|--------------------------------------|-----------------------------|\n",
    "| High Bias            | ❌ ❌ ❌ ❌ (far but tight)             | Consistently wrong (underfit) |\n",
    "| High Variance        | ❌ ✅ ❌ ✅ (scattered)                 | Inconsistent (overfit)        |\n",
    "| Low Bias & Variance  | ✅ ✅ ✅ ✅ (tight & near center)       | Accurate &\n"
   ]
  },
  {
   "cell_type": "markdown",
   "id": "9e09d6d9",
   "metadata": {},
   "source": []
  }
 ],
 "metadata": {
  "kernelspec": {
   "display_name": "nlp_env",
   "language": "python",
   "name": "python3"
  },
  "language_info": {
   "codemirror_mode": {
    "name": "ipython",
    "version": 3
   },
   "file_extension": ".py",
   "mimetype": "text/x-python",
   "name": "python",
   "nbconvert_exporter": "python",
   "pygments_lexer": "ipython3",
   "version": "3.12.3"
  }
 },
 "nbformat": 4,
 "nbformat_minor": 5
}
