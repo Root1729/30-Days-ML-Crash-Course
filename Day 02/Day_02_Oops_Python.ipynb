{
 "cells": [
  {
   "cell_type": "markdown",
   "id": "b2c39860",
   "metadata": {},
   "source": [
    "# 🧱 Object-Oriented Programming in Python\n",
    "Learn how to use classes and objects in Python to write modular, reusable, and organized code."
   ]
  },
  {
   "cell_type": "markdown",
   "id": "036bfdf3",
   "metadata": {},
   "source": [
    "## 📌 What is a Class?\n",
    "A class is a blueprint for creating objects (a particular data structure). A class defines attributes and methods."
   ]
  },
  {
   "cell_type": "code",
   "execution_count": 1,
   "id": "a2dcd87f",
   "metadata": {},
   "outputs": [],
   "source": [
    "class Dog:\n",
    "    def __init__(self, name, breed):\n",
    "        self.name = name\n",
    "        self.breed = breed\n",
    "\n",
    "    def bark(self):\n",
    "        return f\"{self.name} says woof!\""
   ]
  },
  {
   "cell_type": "markdown",
   "id": "7d64225b",
   "metadata": {},
   "source": [
    "## 🐾 Creating an Object"
   ]
  },
  {
   "cell_type": "code",
   "execution_count": 2,
   "id": "3774e669",
   "metadata": {},
   "outputs": [
    {
     "name": "stdout",
     "output_type": "stream",
     "text": [
      "Buddy says woof!\n"
     ]
    }
   ],
   "source": [
    "my_dog = Dog(\"Buddy\", \"Golden Retriever\")\n",
    "print(my_dog.bark())"
   ]
  },
  {
   "cell_type": "markdown",
   "id": "518b94f3",
   "metadata": {},
   "source": [
    "## 🧠 Inheritance\n",
    "Inheritance allows one class to inherit the attributes and methods of another."
   ]
  },
  {
   "cell_type": "code",
   "execution_count": 3,
   "id": "bc0dc234",
   "metadata": {},
   "outputs": [],
   "source": [
    "class Animal:\n",
    "    def __init__(self, species):\n",
    "        self.species = species\n",
    "\n",
    "    def make_sound(self):\n",
    "        return \"Some generic sound\"\n",
    "\n",
    "class Cat(Animal):\n",
    "    def __init__(self, name):\n",
    "        super().__init__(\"Cat\")\n",
    "        self.name = name\n",
    "\n",
    "    def make_sound(self):\n",
    "        return f\"{self.name} says meow!\""
   ]
  },
  {
   "cell_type": "code",
   "execution_count": 4,
   "id": "3b79d5a7",
   "metadata": {},
   "outputs": [
    {
     "name": "stdout",
     "output_type": "stream",
     "text": [
      "Whiskers says meow!\n"
     ]
    }
   ],
   "source": [
    "my_cat = Cat(\"Whiskers\")\n",
    "print(my_cat.make_sound())"
   ]
  },
  {
   "cell_type": "markdown",
   "id": "899f4efe",
   "metadata": {},
   "source": [
    "## 🔁 Encapsulation and Getters/Setters"
   ]
  },
  {
   "cell_type": "code",
   "execution_count": 5,
   "id": "e8fa90f1",
   "metadata": {},
   "outputs": [],
   "source": [
    "class BankAccount:\n",
    "    def __init__(self, owner, balance=0):\n",
    "        self.owner = owner\n",
    "        self.__balance = balance  # private attribute\n",
    "\n",
    "    def deposit(self, amount):\n",
    "        if amount > 0:\n",
    "            self.__balance += amount\n",
    "\n",
    "    def get_balance(self):\n",
    "        return self.__balance"
   ]
  },
  {
   "cell_type": "code",
   "execution_count": 6,
   "id": "9e91f0c6",
   "metadata": {},
   "outputs": [
    {
     "name": "stdout",
     "output_type": "stream",
     "text": [
      "1000\n"
     ]
    }
   ],
   "source": [
    "account = BankAccount(\"Alice\")\n",
    "account.deposit(1000)\n",
    "print(account.get_balance())"
   ]
  },
  {
   "cell_type": "markdown",
   "id": "69c26d52",
   "metadata": {},
   "source": [
    "## ✅ Summary\n",
    "- `__init__()` is the constructor method\n",
    "- `self` refers to the instance\n",
    "- Classes can inherit from other classes\n",
    "- Private attributes are prefixed with double underscores `__`\n",
    "- Methods define the behavior of the class"
   ]
  }
 ],
 "metadata": {
  "kernelspec": {
   "display_name": "nlp_env",
   "language": "python",
   "name": "python3"
  },
  "language_info": {
   "codemirror_mode": {
    "name": "ipython",
    "version": 3
   },
   "file_extension": ".py",
   "mimetype": "text/x-python",
   "name": "python",
   "nbconvert_exporter": "python",
   "pygments_lexer": "ipython3",
   "version": "3.12.3"
  }
 },
 "nbformat": 4,
 "nbformat_minor": 5
}
