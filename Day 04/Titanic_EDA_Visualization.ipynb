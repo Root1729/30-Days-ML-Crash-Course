{
 "cells": [
  {
   "cell_type": "markdown",
   "id": "663e663e",
   "metadata": {},
   "source": [
    "# 🚢 Titanic Dataset - EDA & Visualization\n",
    "Perform exploratory data analysis and visualize key patterns in the Titanic dataset."
   ]
  },
  {
   "cell_type": "markdown",
   "id": "cc00bd22",
   "metadata": {},
   "source": [
    "## 📦 Load Data & Libraries"
   ]
  },
  {
   "cell_type": "code",
   "execution_count": null,
   "id": "574a8b4b",
   "metadata": {},
   "outputs": [],
   "source": [
    "import pandas as pd\n",
    "import seaborn as sns\n",
    "import matplotlib.pyplot as plt\n",
    "\n",
    "# Load Titanic dataset\n",
    "df = sns.load_dataset('titanic')\n",
    "df.head()"
   ]
  },
  {
   "cell_type": "markdown",
   "id": "f9e4068c",
   "metadata": {},
   "source": [
    "## 🧾 Dataset Overview"
   ]
  },
  {
   "cell_type": "code",
   "execution_count": null,
   "id": "64b5bb75",
   "metadata": {},
   "outputs": [],
   "source": [
    "df.info()"
   ]
  },
  {
   "cell_type": "code",
   "execution_count": null,
   "id": "a1d88300",
   "metadata": {},
   "outputs": [],
   "source": [
    "df.describe(include='all')"
   ]
  },
  {
   "cell_type": "markdown",
   "id": "a5c87c92",
   "metadata": {},
   "source": [
    "## 🧹 Missing Values"
   ]
  },
  {
   "cell_type": "code",
   "execution_count": null,
   "id": "a479a4df",
   "metadata": {},
   "outputs": [],
   "source": [
    "df.isnull().sum().sort_values(ascending=False)"
   ]
  },
  {
   "cell_type": "markdown",
   "id": "d67208b2",
   "metadata": {},
   "source": [
    "## 📊 Univariate Analysis"
   ]
  },
  {
   "cell_type": "code",
   "execution_count": null,
   "id": "8f06f413",
   "metadata": {},
   "outputs": [],
   "source": [
    "# Distribution of Age\n",
    "sns.histplot(df['age'].dropna(), bins=30, kde=True)\n",
    "plt.title('Age Distribution')\n",
    "plt.show()"
   ]
  },
  {
   "cell_type": "code",
   "execution_count": null,
   "id": "efabb96d",
   "metadata": {},
   "outputs": [],
   "source": [
    "# Count of Passengers by Class\n",
    "sns.countplot(x='pclass', data=df)\n",
    "plt.title('Passenger Count by Class')\n",
    "plt.show()"
   ]
  },
  {
   "cell_type": "code",
   "execution_count": null,
   "id": "79746161",
   "metadata": {},
   "outputs": [],
   "source": [
    "# Gender Distribution\n",
    "sns.countplot(x='sex', data=df)\n",
    "plt.title('Gender Distribution')\n",
    "plt.show()"
   ]
  },
  {
   "cell_type": "markdown",
   "id": "98d4a9cd",
   "metadata": {},
   "source": [
    "## 🔍 Bivariate Analysis"
   ]
  },
  {
   "cell_type": "code",
   "execution_count": null,
   "id": "e4bf0e73",
   "metadata": {},
   "outputs": [],
   "source": [
    "# Survival by Sex\n",
    "sns.barplot(x='sex', y='survived', data=df)\n",
    "plt.title('Survival Rate by Sex')\n",
    "plt.show()"
   ]
  },
  {
   "cell_type": "code",
   "execution_count": null,
   "id": "49ae5a28",
   "metadata": {},
   "outputs": [],
   "source": [
    "# Survival by Class\n",
    "sns.barplot(x='pclass', y='survived', data=df)\n",
    "plt.title('Survival Rate by Passenger Class')\n",
    "plt.show()"
   ]
  },
  {
   "cell_type": "code",
   "execution_count": null,
   "id": "ea4b01c5",
   "metadata": {},
   "outputs": [],
   "source": [
    "# Age vs Fare colored by Survival\n",
    "sns.scatterplot(x='age', y='fare', hue='survived', data=df)\n",
    "plt.title('Age vs Fare (Survival)')\n",
    "plt.show()"
   ]
  },
  {
   "cell_type": "markdown",
   "id": "18e7b9a1",
   "metadata": {},
   "source": [
    "## 🧩 Multivariate Analysis"
   ]
  },
  {
   "cell_type": "code",
   "execution_count": null,
   "id": "66908920",
   "metadata": {},
   "outputs": [],
   "source": [
    "# Survival by Sex and Class\n",
    "sns.catplot(x='pclass', hue='sex', col='survived', kind='count', data=df)\n",
    "plt.show()"
   ]
  },
  {
   "cell_type": "code",
   "execution_count": null,
   "id": "e3a8cf9b",
   "metadata": {},
   "outputs": [],
   "source": [
    "# Boxplot of Age by Class and Survival\n",
    "sns.boxplot(x='pclass', y='age', hue='survived', data=df)\n",
    "plt.title('Age Distribution by Class & Survival')\n",
    "plt.show()"
   ]
  },
  {
   "cell_type": "markdown",
   "id": "c993394d",
   "metadata": {},
   "source": [
    "## 🔥 Correlation Heatmap"
   ]
  },
  {
   "cell_type": "code",
   "execution_count": null,
   "id": "ec61063d",
   "metadata": {},
   "outputs": [],
   "source": [
    "sns.heatmap(df.corr(numeric_only=True), annot=True, cmap='coolwarm')\n",
    "plt.title('Feature Correlation Heatmap')\n",
    "plt.show()"
   ]
  },
  {
   "cell_type": "markdown",
   "id": "955fbb8d",
   "metadata": {},
   "source": [
    "## ✅ Summary\n",
    "- Analyzed key demographics and class breakdowns\n",
    "- Explored survival relationships across sex, class, and age\n",
    "- Identified patterns using visual analytics"
   ]
  }
 ],
 "metadata": {},
 "nbformat": 4,
 "nbformat_minor": 5
}