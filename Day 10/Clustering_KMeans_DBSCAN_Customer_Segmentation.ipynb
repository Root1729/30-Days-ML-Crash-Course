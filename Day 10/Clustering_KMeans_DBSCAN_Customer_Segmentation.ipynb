{
 "cells": [
  {
   "cell_type": "markdown",
   "id": "2513ef4b",
   "metadata": {},
   "source": [
    "# 🧠 Clustering: K-Means and DBSCAN for Customer Segmentation"
   ]
  },
  {
   "cell_type": "markdown",
   "id": "b012f9c2",
   "metadata": {},
   "source": [
    "## 📚 Step 1: Import Libraries"
   ]
  },
  {
   "cell_type": "code",
   "execution_count": null,
   "id": "713f11cd",
   "metadata": {},
   "outputs": [],
   "source": [
    "import numpy as np\n",
    "import pandas as pd\n",
    "import matplotlib.pyplot as plt\n",
    "import seaborn as sns\n",
    "from sklearn.datasets import make_blobs\n",
    "from sklearn.cluster import KMeans, DBSCAN\n",
    "from sklearn.preprocessing import StandardScaler\n",
    "from sklearn.metrics import silhouette_score"
   ]
  },
  {
   "cell_type": "markdown",
   "id": "961b7aa6",
   "metadata": {},
   "source": [
    "## 📥 Step 2: Create Synthetic Customer Data"
   ]
  },
  {
   "cell_type": "code",
   "execution_count": null,
   "id": "fc671175",
   "metadata": {},
   "outputs": [],
   "source": [
    "# Simulated customer data (e.g., Annual Income vs Spending Score)\n",
    "X, _ = make_blobs(n_samples=300, centers=4, cluster_std=0.60, random_state=0)\n",
    "\n",
    "# Scaling features\n",
    "scaler = StandardScaler()\n",
    "X_scaled = scaler.fit_transform(X)"
   ]
  },
  {
   "cell_type": "markdown",
   "id": "e8c60e27",
   "metadata": {},
   "source": [
    "## 🔎 Step 3: K-Means Clustering\n",
    "\n",
    "### 🔢 Concept:\n",
    "- Partition data into K clusters.\n",
    "- Minimize intra-cluster variance.\n",
    "\n",
    "Objective function:\n",
    "\\[\n",
    "\\text{min} \\sum_{i=1}^{k} \\sum_{x \\in C_i} ||x - \\mu_i||^2\n",
    "\\]"
   ]
  },
  {
   "cell_type": "code",
   "execution_count": null,
   "id": "eae225b6",
   "metadata": {},
   "outputs": [],
   "source": [
    "# Find Optimal K using Elbow Method\n",
    "inertia = []\n",
    "K_range = range(1, 10)\n",
    "for k in K_range:\n",
    "    kmeans = KMeans(n_clusters=k, random_state=0)\n",
    "    kmeans.fit(X_scaled)\n",
    "    inertia.append(kmeans.inertia_)\n",
    "\n",
    "plt.plot(K_range, inertia, 'bo-')\n",
    "plt.xlabel('Number of Clusters K')\n",
    "plt.ylabel('Inertia')\n",
    "plt.title('Elbow Method for Optimal K')\n",
    "plt.show()"
   ]
  },
  {
   "cell_type": "markdown",
   "id": "9648c9c6",
   "metadata": {},
   "source": [
    "### 🛠 Train KMeans with Optimal K"
   ]
  },
  {
   "cell_type": "code",
   "execution_count": null,
   "id": "1957ed76",
   "metadata": {},
   "outputs": [],
   "source": [
    "kmeans = KMeans(n_clusters=4, random_state=0)\n",
    "kmeans.fit(X_scaled)\n",
    "labels_kmeans = kmeans.labels_"
   ]
  },
  {
   "cell_type": "markdown",
   "id": "f8912cfc",
   "metadata": {},
   "source": [
    "### 📊 Visualize KMeans Clusters"
   ]
  },
  {
   "cell_type": "code",
   "execution_count": null,
   "id": "a7782c45",
   "metadata": {},
   "outputs": [],
   "source": [
    "plt.figure(figsize=(8,6))\n",
    "plt.scatter(X_scaled[:, 0], X_scaled[:, 1], c=labels_kmeans, cmap='viridis')\n",
    "plt.scatter(kmeans.cluster_centers_[:, 0], kmeans.cluster_centers_[:, 1], s=200, c='red', marker='X')\n",
    "plt.title('Customer Segmentation with K-Means')\n",
    "plt.xlabel('Feature 1')\n",
    "plt.ylabel('Feature 2')\n",
    "plt.show()"
   ]
  },
  {
   "cell_type": "markdown",
   "id": "4b5f92d6",
   "metadata": {},
   "source": [
    "## 📚 Step 4: DBSCAN Clustering\n",
    "\n",
    "### 🔢 Concept:\n",
    "- Density-based clustering.\n",
    "- Groups points that are closely packed together.\n",
    "- Good for arbitrary shaped clusters and outlier detection."
   ]
  },
  {
   "cell_type": "code",
   "execution_count": null,
   "id": "e54ea713",
   "metadata": {},
   "outputs": [],
   "source": [
    "# Train DBSCAN\n",
    "dbscan = DBSCAN(eps=0.5, min_samples=5)\n",
    "dbscan.fit(X_scaled)\n",
    "labels_dbscan = dbscan.labels_"
   ]
  },
  {
   "cell_type": "markdown",
   "id": "0a004877",
   "metadata": {},
   "source": [
    "### 📊 Visualize DBSCAN Clusters"
   ]
  },
  {
   "cell_type": "code",
   "execution_count": null,
   "id": "ea642adc",
   "metadata": {},
   "outputs": [],
   "source": [
    "plt.figure(figsize=(8,6))\n",
    "plt.scatter(X_scaled[:, 0], X_scaled[:, 1], c=labels_dbscan, cmap='plasma')\n",
    "plt.title('Customer Segmentation with DBSCAN')\n",
    "plt.xlabel('Feature 1')\n",
    "plt.ylabel('Feature 2')\n",
    "plt.show()"
   ]
  },
  {
   "cell_type": "markdown",
   "id": "3f8ea0c3",
   "metadata": {},
   "source": [
    "## ✅ Step 5: Summary\n",
    "- **K-Means** partitions customers into \"k\" groups minimizing variance.\n",
    "- **DBSCAN** identifies dense regions and detects outliers.\n",
    "- Useful for customer segmentation in marketing and personalization strategies.\n",
    "\n",
    "# End of Notebook"
   ]
  }
 ],
 "metadata": {},
 "nbformat": 4,
 "nbformat_minor": 5
}